{
 "cells": [
  {
   "cell_type": "code",
   "execution_count": null,
   "id": "21b79863-1bb1-41f5-ac64-b3e00973da69",
   "metadata": {},
   "outputs": [],
   "source": [
    "Q1= who is del"
   ]
  }
 ],
 "metadata": {
  "kernelspec": {
   "display_name": "Python 3 (ipykernel)",
   "language": "python",
   "name": "python3"
  },
  "language_info": {
   "codemirror_mode": {
    "name": "ipython",
    "version": 3
   },
   "file_extension": ".py",
   "mimetype": "text/x-python",
   "name": "python",
   "nbconvert_exporter": "python",
   "pygments_lexer": "ipython3",
   "version": "3.10.6"
  }
 },
 "nbformat": 4,
 "nbformat_minor": 5
}
